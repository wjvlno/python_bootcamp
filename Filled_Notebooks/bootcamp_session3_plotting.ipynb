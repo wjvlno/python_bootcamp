{
  "nbformat": 4,
  "nbformat_minor": 0,
  "metadata": {
    "colab": {
      "provenance": []
    },
    "kernelspec": {
      "name": "python3",
      "display_name": "Python 3"
    },
    "language_info": {
      "name": "python"
    }
  },
  "cells": [
    {
      "cell_type": "markdown",
      "source": [
        "# Built-in list methods"
      ],
      "metadata": {
        "id": "6iwWZPHeTRc8"
      }
    },
    {
      "cell_type": "code",
      "source": [
        "## Remember that lists are mutable. These methods allow you to modify lists\n",
        "## \"in place\", meaning you don't need to re-assign to an object\n",
        "\n",
        "# Sample list\n",
        "my_list = [10, 20, 30, 40, 50]\n",
        "\n",
        "# 1. append() - Adds an element to the end of the list\n",
        "my_list.append(60)\n",
        "print(\"After append:\", my_list)  # Output: [10, 20, 30, 40, 50, 60]\n",
        "\n",
        "# 2. insert() - Inserts an element at a specified position\n",
        "my_list.insert(2, 25)  # Insert 25 at index 2\n",
        "print(\"After insert:\", my_list)  # Output: [10, 20, 25, 30, 40, 50, 60]\n",
        "\n",
        "# 3. extend() - Extends the list by appending elements from another list\n",
        "my_list.extend([70, 80])\n",
        "print(\"After extend:\", my_list)  # Output: [10, 20, 25, 30, 40, 50, 60, 70, 80]\n",
        "\n",
        "# 4. remove() - Removes the first occurrence of a value\n",
        "my_list.remove(25)  # Remove the first occurrence of 25\n",
        "print(\"After remove:\", my_list)  # Output: [10, 20, 30, 40, 50, 60, 70, 80]\n",
        "\n",
        "# 5. pop() - Removes and returns an element at a specified index (or the last element by default)\n",
        "popped_value = my_list.pop(3)  # Remove the element at index 3\n",
        "print(\"After pop:\", my_list)  # Output: [10, 20, 30, 50, 60, 70, 80]\n",
        "print(\"Popped value:\", popped_value)  # Output: 40\n",
        "\n",
        "# 6. index() - Returns the index of the first occurrence of a value\n",
        "index_of_50 = my_list.index(50)\n",
        "print(\"Index of 50:\", index_of_50)  # Output: 3\n",
        "\n",
        "# 7. count() - Returns the number of occurrences of a value\n",
        "count_of_60 = my_list.count(60)\n",
        "print(\"Count of 60:\", count_of_60)  # Output: 1\n",
        "\n",
        "# 8. sort() - Sorts the list in ascending order (can also sort in descending order)\n",
        "my_list.sort()  # Sort in ascending order\n",
        "print(\"After sort (ascending):\", my_list)  # Output: [10, 20, 30, 50, 60, 70, 80]\n",
        "\n",
        "my_list.sort(reverse=True)  # Sort in descending order\n",
        "print(\"After sort (descending):\", my_list)  # Output: [80, 70, 60, 50, 30, 20, 10]\n",
        "\n",
        "# 9. reverse() - Reverses the order of the list\n",
        "my_list.reverse()\n",
        "print(\"After reverse:\", my_list)  # Output: [10, 20, 30, 50, 60, 70, 80]\n",
        "\n",
        "# 10. copy() - Returns a shallow copy of the list\n",
        "copied_list = my_list.copy()\n",
        "print(\"Copied list:\", copied_list)  # Output: [10, 20, 30, 50, 60, 70, 80]\n",
        "\n",
        "# 11. clear() - Removes all elements from the list\n",
        "my_list.clear()\n",
        "print(\"After clear:\", my_list)  # Output: []\n",
        "\n",
        "# Recap: Lists are mutable.\n"
      ],
      "metadata": {
        "id": "T_IX7uvPQqI0"
      },
      "execution_count": null,
      "outputs": []
    },
    {
      "cell_type": "markdown",
      "source": [
        "# Cleaning up messy dataframes"
      ],
      "metadata": {
        "id": "UdWKt2b3TdBz"
      }
    },
    {
      "cell_type": "markdown",
      "source": [
        "### Make a dataframe with issues"
      ],
      "metadata": {
        "id": "BgOhzlQBT1mX"
      }
    },
    {
      "cell_type": "code",
      "source": [
        "# Bonus: Writing functions for data cleaning\n",
        "\n",
        "import pandas as pd\n",
        "import numpy as np\n",
        "\n",
        "# Create a DataFrame with issues in the Model and Price columns\n",
        "data = {\n",
        "    \"Make\": [\"Volkswagen\", \"Fiat\", \"Ferrari\", \"Ferrari\", \"Volkswagen\", \"Volkswagen\", \"Volkswagen\", \"Volkswagen\", \"Volkswagen\",\n",
        "             \"Fiat\", \"Fiat\", \"Fiat\", \"Fiat\", \"Fiat\",\n",
        "             \"Ferrari\", \"Ferrari\", \"Ferrari\", \"Ferrari\", \"Ferrari\",\n",
        "             \"Alfa Romeo\", \"Alfa Romeo\", \"Alfa Romeo\", \"Alfa Romeo\", \"Alfa Romeo\",\n",
        "             \"Subaru\", \"Subaru\", \"Subaru\", \"Subaru\", \"Subaru\",\n",
        "             \"Chevrolet\", \"Chevrolet\", \"Chevrolet\", \"Chevrolet\", \"Chevrolet\"],\n",
        "    \"Model\": [\"VW Jetta\", \"Panda\", \"250 GTO\", \"California\", \"Volkswagen Golf\", \"Volkswagen Passat\", \"Volkswagen Tiguan\", \"VW Polo\", \"Volkswagen Arteon\",\n",
        "              \"Fiat 500\", \"Fiat Tipo\", \"Fiat Punto\", \"Fiat Panda Cross\", \"Fiat 124 Spider\",\n",
        "              \"Ferrari 488 Spider\", \"Ferrari F8 Tributo\", \"Ferrari Portofino\", \"Ferrari Roma\", \"Ferrari SF90 Stradale\",\n",
        "              \"Alfa Giulia\", \"Stelvio\", \"Alfa 4C\", \"Alfa GTV\", \"Alfa Romeo Giulietta\",\n",
        "              \"Subaru Impreza\", \"Subaru Outback\", \"Subaru Forester\", \"Subaru Crosstrek\", \"Subaru WRX\",\n",
        "              \"Chevrolet Malibu\", \"Chevrolet Camaro\", \"Chevy Equinox\", \"Chevrolet Tahoe\", \"Chevy Traverse\"],\n",
        "    \"Year\": [2024, 1987, 1963, 2021, 2022, 2023, 2021, 2020, 2022,\n",
        "             1990, 2018, 2005, 2019, 2017,\n",
        "             2020, 2019, 2021, 2021, 2022,\n",
        "             2021, 2020, 2018, 2019, 2019,\n",
        "             2021, 2020, 2019, 2022, 2022,\n",
        "             2019, 2022, 2021, 2021, 2020],\n",
        "    \"Price\": [\"$24875\", \"Price is $8200\", \"($70000000)\", \"$255995\", \"$23000\", \"$27000\", \"Price: $25000\", \"€22000\", \"35,000\",\n",
        "              \"9500 dollars\", \"$18500\", \"15k\", \"$12000\", \"25000 USD\",\n",
        "              \"€280000\", \"Price is $320000\", \"$215000\", \"222000\", \"($625000)\",\n",
        "              \"43,000\", \"$41000\", \"56k\", \"$45000\", \"39,000\",\n",
        "              \"23,000\", \"$27000\", \"Price: $25000\", \"24k\", \"36000\",\n",
        "              \"$25000\", \"$35000\", \"$32000\", \"45000\", \"$40000\"]\n",
        "}\n",
        "\n",
        "# Create DataFrame\n",
        "df = pd.DataFrame(data)\n",
        "\n",
        "df = df.sort_values(by = [\"Make\", \"Model\"])\n",
        "\n",
        "# Backup the DataFrame\n",
        "df_backup = df.copy()\n",
        "\n",
        "# View the df\n",
        "# print(df)\n",
        "# print()\n",
        "\n",
        "# There are two issues here:\n",
        "\n",
        "## 1. We have redundant make names in \"Model\" column. E.g., \"Alfa 4C\", \"VW Jetta\"\n",
        "print(df[df[\"Model\"].str.contains(\" \")].Model.values)\n",
        "print()\n",
        "\n",
        "## 2. Prices are formatted weird, and we want straightforward numbers\n",
        "print(df[\"Price\"].values)\n",
        "print()\n"
      ],
      "metadata": {
        "id": "DjfO1l2BEVNQ"
      },
      "execution_count": null,
      "outputs": []
    },
    {
      "cell_type": "markdown",
      "source": [
        "### Step 1: Fix redundant info in the \"Model\" column"
      ],
      "metadata": {
        "id": "n8Z2x1arUA0Q"
      }
    },
    {
      "cell_type": "code",
      "source": [
        "# First, we can write a function that works on individual row values in a column\n",
        "\n",
        "def clean_model(row, min_matches=2):\n",
        "    make = row['Make'].lower().replace(' ', '')  # Remove spaces from make name for matching\n",
        "    model = row['Model']\n",
        "\n",
        "    # Split the model name into words\n",
        "    model_words = model.split()\n",
        "\n",
        "    # Remove words with min_matches or more letter matches to the make name, except the last word\n",
        "    cleaned_model_words = []\n",
        "    for i, word in enumerate(model_words):\n",
        "        if i == len(model_words) - 1:\n",
        "            cleaned_model_words.append(word)\n",
        "        else:\n",
        "            # Check if the word has min_matches or more letters from the make\n",
        "            word_lower = word.lower()\n",
        "            match_count = sum(1 for char in word_lower if char in make)\n",
        "            if match_count < min_matches:\n",
        "                cleaned_model_words.append(word)\n",
        "\n",
        "    # Join the remaining words to form the cleaned model name\n",
        "    model = ' '.join(cleaned_model_words)\n",
        "\n",
        "    return model\n",
        "\n",
        "# Then we can apply our function to each row in the 'Model' column using a method in pandas called .apply()\n",
        "\n",
        "df['Model'] = df.apply(clean_model, axis=1)\n",
        "\n",
        "# View the cleaned DataFrame\n",
        "df # Note the changes in the Model column\n",
        "\n"
      ],
      "metadata": {
        "id": "-fV-Aq-0M8Hb"
      },
      "execution_count": null,
      "outputs": []
    },
    {
      "cell_type": "markdown",
      "source": [
        "#### How does this work?"
      ],
      "metadata": {
        "id": "Pgv-Mi4cUJnA"
      }
    },
    {
      "cell_type": "code",
      "source": [
        "df = df_backup.copy()\n",
        "\n",
        "# First inspect the input to the function (DataFrame row)\n",
        "\n",
        "# pick a row number to test\n",
        "test_row = 0\n",
        "\n",
        "row = df.iloc[test_row]\n",
        "print(\"Our target row:\")\n",
        "print(row)\n",
        "print()\n",
        "\n",
        "# our function has a default argument, 'min_matches=2', which acts like an input\n",
        "min_matches = 2\n",
        "\n",
        "# Then we'll look at the first variables created in the function (make & model)\n",
        "\n",
        "make = row['Make'].lower().replace(' ', '')  # We're converting this to lowercase and removing spaces\n",
        "print(f\"Make: \\n{make}\")\n",
        "print()\n",
        "\n",
        "model = row['Model']\n",
        "print(f\"Model: \\n{model}\")\n",
        "print()\n",
        "\n",
        "# Split the model name into words\n",
        "\n",
        "model_words = model.split()\n",
        "print(f\"Model Words: \\n{model_words}\")\n",
        "print()\n",
        "\n",
        "# Iterate through the model words, except the last word, and check for matches\n",
        "\n",
        "# Initialize an empty list to hold the cleaned model words\n",
        "cleaned_model_words = []\n",
        "\n",
        "# Enumerate through the model words to get both the index and the word\n",
        "for i, word in enumerate(model_words):\n",
        "    # If this is the last word, always add it to the cleaned_model_words list\n",
        "    print(f\"Current word: {word}\")\n",
        "    if i == len(model_words) - 1:\n",
        "        print(f\"Keep the last word in the model name: {word}\")\n",
        "        cleaned_model_words.append(word)\n",
        "    else:\n",
        "        # Convert the word to lowercase for comparison\n",
        "        word_lower = word.lower()\n",
        "        print(f\"Current word (to lowercase): {word_lower}\")\n",
        "\n",
        "        # Count the number of characters in the word that are also in the make name\n",
        "        match_count = sum(1 for char in word_lower if char in make)\n",
        "        print(f\"Match count for '{word_lower}' with make '{make}': {match_count}\")\n",
        "\n",
        "        # If the match count is less than the minimum matches, add the word to cleaned_model_words\n",
        "        if match_count < min_matches:\n",
        "            print(f\"Appending word (less than {min_matches} matches): {word}\")\n",
        "            cleaned_model_words.append(word)\n",
        "        else:\n",
        "            print(f\"Target word (has {match_count} matching characters): {word}\")\n",
        "    print()\n",
        "\n",
        "# The cleaned_model_words list now contains the filtered model words\n",
        "print()\n",
        "print(f\"Cleaned Model Name: {cleaned_model_words}\")\n",
        "print()\n"
      ],
      "metadata": {
        "id": "2SklGHUrNItb"
      },
      "execution_count": null,
      "outputs": []
    },
    {
      "cell_type": "markdown",
      "source": [
        "### Step 2: Clean the \"Price\" column"
      ],
      "metadata": {
        "id": "_a6llm7YUOaS"
      }
    },
    {
      "cell_type": "code",
      "source": [
        "# Writing a function to clean price data\n",
        "\n",
        "def clean_price(price):\n",
        "    # Convert price to lowercase for consistent processing\n",
        "    price = price.lower()\n",
        "\n",
        "    # Handle 'k' for thousands\n",
        "    if 'k' in price:\n",
        "        price = price.replace('k', '000')\n",
        "\n",
        "    # Handle conversion from euros to dollars\n",
        "    euro_to_dollar_rate = 1.1\n",
        "    if '€' in price or 'eur' in price:\n",
        "        price = price.replace('€', '').replace('eur', '').strip()\n",
        "        is_euro = True\n",
        "    else:\n",
        "        is_euro = False\n",
        "\n",
        "    # Remove non-numeric characters except for periods\n",
        "    num_str = ''\n",
        "    for char in price:\n",
        "        if char.isdigit() or char == '.':\n",
        "            num_str += char\n",
        "\n",
        "    # Convert to float if possible\n",
        "    if num_str:\n",
        "        price = float(num_str)\n",
        "        if is_euro:\n",
        "            price *= euro_to_dollar_rate\n",
        "    else:\n",
        "        return None\n",
        "\n",
        "    return price\n",
        "\n",
        "# Then we can apply our function to each row in the 'Price' column using a method in pandas called .apply()\n",
        "\n",
        "df['Price'] = df['Price'].apply(clean_price)\n",
        "\n",
        "# View the cleaned DataFrame\n",
        "df # Note that prices are converted to numeric values and standardized to dollars\n",
        "\n"
      ],
      "metadata": {
        "id": "tTomrZWCNAsD"
      },
      "execution_count": null,
      "outputs": []
    },
    {
      "cell_type": "markdown",
      "source": [
        "#### How does this work?"
      ],
      "metadata": {
        "id": "Hpgkha-fUV5B"
      }
    },
    {
      "cell_type": "code",
      "source": [
        "df = df_backup.copy()\n",
        "\n",
        "test_row = 12\n",
        "row = df.iloc[test_row]\n",
        "\n",
        "# Inspect the input to the function\n",
        "\n",
        "price = row['Price']\n",
        "print(\"Original Price:\")\n",
        "print(price)\n",
        "print()\n",
        "\n",
        "# Convert price to lowercase for consistent processing\n",
        "\n",
        "price = price.lower()\n",
        "\n",
        "# Handle 'k' for thousands\n",
        "\n",
        "if 'k' in price:\n",
        "    print(\"'k' detected\")\n",
        "    price = price.replace('k', '000')\n",
        "    print(f\"'k' to thousands: {price}\")\n",
        "else:\n",
        "    print(\"No 'k' detected\")\n",
        "print()\n",
        "\n",
        "# Handle conversion from euros to dollars\n",
        "\n",
        "euro_to_dollar_rate = 1.1\n",
        "if '€' in price or 'eur' in price:\n",
        "    price = price.replace('€', '').replace('eur', '').strip()\n",
        "    is_euro = True\n",
        "else:\n",
        "    is_euro = False\n",
        "print(f\"Price in Euro?: {is_euro}\")\n",
        "print()\n",
        "\n",
        "# Remove non-numeric characters except for periods\n",
        "\n",
        "num_str = ''\n",
        "for char in price:\n",
        "    if char.isdigit() or char == '.':\n",
        "        num_str += char\n",
        "\n",
        "# Convert to float if possible\n",
        "\n",
        "if num_str:\n",
        "    price = float(num_str)\n",
        "    if is_euro:\n",
        "        price *= euro_to_dollar_rate\n",
        "        print(f\"Final Price (euro to USD): {price}\")\n",
        "    else:\n",
        "        print(f\"Final Price (already in USD): {price}\")"
      ],
      "metadata": {
        "id": "yrnVFIvINLtL"
      },
      "execution_count": null,
      "outputs": []
    },
    {
      "cell_type": "markdown",
      "source": [
        "# Plotting"
      ],
      "metadata": {
        "id": "gi_eshIgA2ej"
      }
    },
    {
      "cell_type": "markdown",
      "source": [
        "### Load Python plotting modules"
      ],
      "metadata": {
        "id": "vXS5sOwdUitT"
      }
    },
    {
      "cell_type": "code",
      "source": [
        "## Load Python plotting modules\n",
        "\n",
        "import matplotlib.pyplot as plt\n",
        "import seaborn as sns\n",
        "\n",
        "# Set global style for the plots with 'seaborn' module\n",
        "sns.set(style=\"whitegrid\")"
      ],
      "metadata": {
        "id": "pVR19f8nX6SA"
      },
      "execution_count": null,
      "outputs": []
    },
    {
      "cell_type": "markdown",
      "source": [
        "### Using Matplotlib"
      ],
      "metadata": {
        "id": "CZ9NMcGzUmre"
      }
    },
    {
      "cell_type": "code",
      "source": [
        "# load an example dataset\n",
        "mpg = sns.load_dataset(\"mpg\")"
      ],
      "metadata": {
        "id": "XMdrsKW2U5iG"
      },
      "execution_count": null,
      "outputs": []
    },
    {
      "cell_type": "code",
      "source": [
        "# Building out a basic plot\n",
        "\n",
        "# Plot the data (default settings)\n",
        "plt.plot(mpg['model_year'], mpg['mpg'])\n",
        "# First positional argument: df['model_year'], is the data for the x-axis\n",
        "# Second positional argument: df['mpg'] is the data for the y-axis\n",
        "\n",
        "# NOTE: matplotlib does not automatically sort x-axis values, but plots in the order specified by your data"
      ],
      "metadata": {
        "id": "MlIkWYNHz1LZ"
      },
      "execution_count": null,
      "outputs": []
    },
    {
      "cell_type": "code",
      "source": [
        "# Adding keyword arguments to Matplotlib\n",
        "\n",
        "plt.figure(figsize=(10, 6))\n",
        "plt.plot(mpg['model_year'], mpg['mpg'], marker='o', color='b', linewidth=0)\n",
        "# marker='o' adds a circle marker at each data point\n",
        "# linestyle='-' connects the data points with a line\n",
        "# color='b' sets the color of the line to blue\n",
        "\n",
        "# Add title and labels\n",
        "plt.title('Car MPG Over Years')  # Set the title of the plot\n",
        "plt.xlabel('Year')  # Set the label for the x-axis\n",
        "plt.ylabel('MPG')  # Set the label for the y-axis\n",
        "\n",
        "# Show the plot\n",
        "plt.show()  # Display the plot\n",
        "\n",
        "\n",
        "\n",
        "colors = {3: 'blue', 4: 'orange', 5: 'green', 6: 'red', 8: 'purple'}\n",
        "\n",
        "# Create the scatter plot\n",
        "plt.figure(figsize=(10, 6))\n",
        "plt.scatter(mpg['model_year'], mpg['mpg'], c=mpg['cylinders'].map(colors), alpha = 0.5)\n",
        "\n",
        "for cyl, color in colors.items():\n",
        "    plt.scatter([], [], c=color, label=f'{cyl} cylinders')\n",
        "plt.legend(loc='upper center', bbox_to_anchor=(0.5, -0.1), ncol=5)\n",
        "\n",
        "plt.title('Car MPG Over Years')  # Set the title of the plot\n",
        "plt.xlabel('Year')  # Set the label for the x-axis\n",
        "plt.ylabel('MPG')  # Set the label for the y-axis\n",
        "\n",
        "plt.show()"
      ],
      "metadata": {
        "id": "McsR1wq7z9YF"
      },
      "execution_count": null,
      "outputs": []
    },
    {
      "cell_type": "markdown",
      "source": [
        "### Using Seaborn"
      ],
      "metadata": {
        "id": "8mCUEihd0Gpt"
      }
    },
    {
      "cell_type": "code",
      "source": [
        "# Basic plot with seaborn\n",
        "\n",
        "# Seaborn is a high-level interface built on top of Matplotlib\n",
        "# that integrates directly with Matplotlib's plotting functions.\n",
        "# When you create a plot using Seaborn, it utilizes Matplotlib's underlying\n",
        "# structure to generate and display the plot (Note that we still call 'plt').\n",
        "\n",
        "# Create a scatter plot showing the relationship between horsepower and miles per gallon\n",
        "plt.figure(figsize=(10, 6))\n",
        "sns.scatterplot(data=mpg, x='horsepower', y='mpg', hue='origin', palette='deep', s=100, alpha = 0.75)\n",
        "\n",
        "# Add title and labels\n",
        "plt.title('MPG vs Horsepower')\n",
        "plt.xlabel('Horsepower')\n",
        "plt.ylabel('Miles per Gallon')\n",
        "\n",
        "# Show the plot\n",
        "plt.show()\n"
      ],
      "metadata": {
        "id": "Fyeo9KQy0GJe"
      },
      "execution_count": null,
      "outputs": []
    },
    {
      "cell_type": "code",
      "source": [
        "# Create a histogram showing the distribution of miles per gallon\n",
        "plt.figure(figsize=(10, 6))\n",
        "sns.histplot(data=mpg, x='mpg', bins=20, kde=True, color='blue') # kde adds kernel density estimate line\n",
        "\n",
        "# Add title and labels\n",
        "plt.title('Distribution of Miles per Gallon')\n",
        "plt.xlabel('Miles per Gallon')\n",
        "plt.ylabel('Frequency')\n",
        "\n",
        "# Show the plot\n",
        "plt.show()\n"
      ],
      "metadata": {
        "id": "k3xxs9e1LK-V"
      },
      "execution_count": null,
      "outputs": []
    },
    {
      "cell_type": "code",
      "source": [
        "# Create a violin plot showing the distribution of miles per gallon by origin\n",
        "plt.figure(figsize=(10, 6))\n",
        "sns.violinplot(data=mpg, x='origin', y='mpg', palette='muted')\n",
        "\n",
        "# Add title and labels\n",
        "plt.title('MPG by Origin')\n",
        "plt.xlabel('Origin')\n",
        "plt.ylabel('Miles per Gallon')\n",
        "\n",
        "# Show the plot\n",
        "plt.show()\n"
      ],
      "metadata": {
        "id": "CeGS5mEQLXsx"
      },
      "execution_count": null,
      "outputs": []
    },
    {
      "cell_type": "code",
      "source": [
        "import seaborn as sns\n",
        "import matplotlib.pyplot as plt\n",
        "\n",
        "# Load the mpg dataset from seaborn\n",
        "mpg = sns.load_dataset('mpg')\n",
        "\n",
        "# Define the unique cylinder counts\n",
        "cylinder_counts = sorted(mpg['cylinders'].unique()) # [(mpg['cylinders'] == 4) | (mpg['cylinders'] == 6)]\n",
        "\n",
        "# Set up the matplotlib figure with subplots\n",
        "fig, axes = plt.subplots(nrows=len(cylinder_counts), ncols=1, figsize=(10, len(cylinder_counts) * 5), sharex=True)\n",
        "\n",
        "# Create a plot for each cylinder count\n",
        "for i, cylinders in enumerate(cylinder_counts):\n",
        "    ax = axes[i]\n",
        "    sns.violinplot(data=mpg[mpg['cylinders'] == cylinders], x='origin', y='mpg', palette='muted', ax=ax)\n",
        "    ax.set_title(f'MPG by Origin for {cylinders} Cylinders')\n",
        "    ax.set_xlabel('Origin')\n",
        "    ax.set_ylabel('Miles per Gallon')\n",
        "\n",
        "# Adjust layout\n",
        "plt.tight_layout()\n",
        "plt.show()\n"
      ],
      "metadata": {
        "id": "xOOzNDcALul-"
      },
      "execution_count": null,
      "outputs": []
    },
    {
      "cell_type": "code",
      "source": [
        "# Create a pair plot to show relationships between different numeric variables\n",
        "sns.pairplot(data=mpg, vars=['mpg', 'horsepower', 'weight', 'acceleration'], hue='origin', palette='bright')\n",
        "\n",
        "# Add title\n",
        "plt.suptitle('Pair Plot of MPG, Horsepower, Weight, and Acceleration', y=1.02)\n",
        "\n",
        "# Show the plot\n",
        "plt.show()\n"
      ],
      "metadata": {
        "id": "A1e87lr4Lbnf"
      },
      "execution_count": null,
      "outputs": []
    },
    {
      "cell_type": "code",
      "source": [
        "# Make a correlation matrix for numeric variables in the mpg dataset\n",
        "\n",
        "# Calculate the correlation matrix with numeric values only\n",
        "corr_matrix = mpg.select_dtypes(include=['number']).corr()\n",
        "\n",
        "# Create a heatmap to show the correlation matrix\n",
        "plt.figure(figsize=(10, 8))\n",
        "sns.heatmap(corr_matrix, annot=True, cmap='coolwarm', center=0)\n",
        "\n",
        "# Add title\n",
        "plt.title('Correlation Matrix Heatmap (Numeric Values Only)')\n",
        "\n",
        "# Show the plot\n",
        "plt.show()\n"
      ],
      "metadata": {
        "id": "v3wTy0J1LlLa"
      },
      "execution_count": null,
      "outputs": []
    },
    {
      "cell_type": "code",
      "source": [
        "# plot acceleration as a function of cylinder count and weight\n",
        "\n",
        "# Set the theme\n",
        "sns.set_theme()\n",
        "\n",
        "# Catplot = categorical plot\n",
        "catplot = sns.catplot(\n",
        "    data=mpg, x=\"cylinders\", y=\"acceleration\", hue=\"weight\", s = 75, alpha = 0.5,\n",
        "    native_scale=True, zorder=1, height=8, aspect=1.5  # aspect determines the width, zorder determines stacking order of plot elements\n",
        ")\n",
        "\n",
        "# Add a regression line\n",
        "sns.regplot(\n",
        "    data=mpg, x=\"cylinders\", y=\"acceleration\",\n",
        "    scatter=False, truncate=False, order=2, color=\".2\", ax=catplot.ax # here, order refers to the polynomial order\n",
        ")\n",
        "\n",
        "# Show the plot\n",
        "plt.show()\n"
      ],
      "metadata": {
        "id": "qb5nyWuXMgHl"
      },
      "execution_count": null,
      "outputs": []
    },
    {
      "cell_type": "markdown",
      "source": [
        "### More Seaborn examples"
      ],
      "metadata": {
        "id": "txmXs9otVK2O"
      }
    },
    {
      "cell_type": "code",
      "source": [
        "# Using different datasets\n",
        "\n",
        "df = sns.load_dataset('tips')\n",
        "\n",
        "plt.figure(figsize=(10, 6))\n",
        "sns.stripplot(x='day', y='total_bill', data=df, color='blue', jitter=True, size=8, alpha=0.2)\n",
        "sns.boxplot(x='day', y='total_bill', data=df, palette='pastel')\n",
        "\n",
        "\n",
        "# Add title and labels\n",
        "plt.title('Total Bill by Day of the Week')\n",
        "plt.xlabel('Day')\n",
        "plt.ylabel('Total Bill')\n",
        "\n",
        "# Show the plot\n",
        "plt.show()"
      ],
      "metadata": {
        "id": "j9USVlSQQg2K"
      },
      "execution_count": null,
      "outputs": []
    },
    {
      "cell_type": "code",
      "source": [
        "sns.set_theme(style=\"darkgrid\")\n",
        "\n",
        "# Load an example dataset with long-form data\n",
        "fmri = sns.load_dataset(\"fmri\")\n",
        "\n",
        "# Plot the responses for different events and regions\n",
        "sns.lineplot(x=\"timepoint\", y=\"signal\",\n",
        "             hue=\"region\", style=\"event\",\n",
        "             data=fmri)"
      ],
      "metadata": {
        "id": "M7KZUozLQj71"
      },
      "execution_count": null,
      "outputs": []
    },
    {
      "cell_type": "code",
      "source": [
        "sns.set_theme(style=\"whitegrid\")\n",
        "\n",
        "# Load the example diamonds dataset\n",
        "diamonds = sns.load_dataset(\"diamonds\")\n",
        "\n",
        "# Draw a scatter plot while assigning point colors and sizes to different\n",
        "# variables in the dataset\n",
        "f, ax = plt.subplots(figsize=(6.5, 6.5))\n",
        "sns.despine(f, left=True, bottom=True)\n",
        "clarity_ranking = [\"I1\", \"SI2\", \"SI1\", \"VS2\", \"VS1\", \"VVS2\", \"VVS1\", \"IF\"]\n",
        "sns.scatterplot(x=\"carat\", y=\"price\",\n",
        "                hue=\"clarity\", size=\"depth\",\n",
        "                palette=\"ch:r=-.2,d=.3_r\",\n",
        "                hue_order=clarity_ranking,\n",
        "                sizes=(1, 8), linewidth=0,\n",
        "                data=diamonds, ax=ax)"
      ],
      "metadata": {
        "id": "rsQvG-hYQnDA"
      },
      "execution_count": null,
      "outputs": []
    },
    {
      "cell_type": "code",
      "source": [
        "sns.set_theme(style=\"white\")\n",
        "\n",
        "df = sns.load_dataset(\"penguins\")\n",
        "\n",
        "g = sns.JointGrid(data=df, x=\"body_mass_g\", y=\"bill_depth_mm\", space=0)\n",
        "g.plot_joint(sns.kdeplot,\n",
        "             fill=True, clip=((2200, 6800), (10, 25)),\n",
        "             thresh=0, levels=100, cmap=\"rocket\")\n",
        "g.plot_marginals(sns.histplot, color=\"#03051A\", alpha=1, bins=25)"
      ],
      "metadata": {
        "id": "FdAbwQ42QpOC"
      },
      "execution_count": null,
      "outputs": []
    },
    {
      "cell_type": "code",
      "source": [
        "sns.set_theme()\n",
        "\n",
        "# Load the brain networks example dataset\n",
        "df = sns.load_dataset(\"brain_networks\", header=[0, 1, 2], index_col=0)\n",
        "\n",
        "# Select a subset of the networks\n",
        "used_networks = [1, 5, 6, 7, 8, 12, 13, 17]\n",
        "used_columns = (df.columns.get_level_values(\"network\")\n",
        "                          .astype(int)\n",
        "                          .isin(used_networks))\n",
        "df = df.loc[:, used_columns]\n",
        "\n",
        "# Create a categorical palette to identify the networks\n",
        "network_pal = sns.husl_palette(8, s=.45)\n",
        "network_lut = dict(zip(map(str, used_networks), network_pal))\n",
        "\n",
        "# Convert the palette to vectors that will be drawn on the side of the matrix\n",
        "networks = df.columns.get_level_values(\"network\")\n",
        "network_colors = pd.Series(networks, index=df.columns).map(network_lut)\n",
        "\n",
        "# Draw the full plot\n",
        "g = sns.clustermap(df.corr(), center=0, cmap=\"vlag\",\n",
        "                   row_colors=network_colors, col_colors=network_colors,\n",
        "                   dendrogram_ratio=(.1, .2),\n",
        "                   cbar_pos=(.02, .32, .03, .2),\n",
        "                   linewidths=.75, figsize=(12, 13))\n",
        "\n",
        "g.ax_row_dendrogram.remove()\n"
      ],
      "metadata": {
        "id": "A0zYyHLN4iri"
      },
      "execution_count": null,
      "outputs": []
    },
    {
      "cell_type": "markdown",
      "source": [
        "# More Involved Plots (with web-scraping)"
      ],
      "metadata": {
        "id": "jqIYiV_OQuqu"
      }
    },
    {
      "cell_type": "code",
      "source": [
        "# installing a module within a jupyter notebook\n",
        "\n",
        "# in iPython 7.3 or above (magic)\n",
        "%pip install yfinance\n",
        "\n",
        "# Alternative for older versions (uncomment two lines below)\n",
        "# import sys\n",
        "# !{sys.executable} -m pip install yfinance\n",
        "\n",
        "import yfinance as yf\n",
        "import matplotlib.pyplot as plt\n",
        "import datetime\n",
        "\n",
        "# Define the time period\n",
        "start = datetime.datetime(2019, 1, 1)\n",
        "end = datetime.datetime(2024, 5, 1)\n",
        "\n",
        "# Fetch data for a specific stock (e.g., Apple)\n",
        "df = yf.download('NVDA', start=start, end=end)\n",
        "\n",
        "# Plot the closing price\n",
        "plt.figure(figsize=(16, 8))\n",
        "plt.plot(df.index, df['Close'], marker='o', linestyle='-', color='b', alpha = 0.2)\n",
        "\n",
        "# Add title and labels\n",
        "plt.title('Nvidia Stock Price (2019-2024)')\n",
        "plt.xlabel('Date')\n",
        "plt.ylabel('Closing Price (USD)')\n",
        "\n",
        "# Show the plot\n",
        "plt.show()\n"
      ],
      "metadata": {
        "id": "xcyinLnhfpZ7"
      },
      "execution_count": null,
      "outputs": []
    },
    {
      "cell_type": "code",
      "source": [
        "# Fetch NVDA stock data\n",
        "nvda = yf.Ticker('NVDA')\n",
        "nvda_data = nvda.history(start='2019-01-01', end='2024-05-01')\n",
        "\n",
        "# Convert the datetime index to date only\n",
        "nvda_data.index = nvda_data.index.date\n",
        "\n",
        "# Fetch the closing price\n",
        "nvda_close = nvda_data['Close']\n",
        "\n",
        "# Get earnings dates\n",
        "earnings = nvda.get_earnings_dates(limit = 50)\n",
        "\n",
        "# Filter earnings dates for the relevant period\n",
        "earnings = earnings[(earnings.index >= '2019-01-01') & (earnings.index <= '2024-05-01')]\n",
        "\n",
        "# Convert earnings dates to date only and create a DataFrame\n",
        "earnings_dates = pd.DataFrame(earnings.index.date, columns=['date'])\n",
        "\n",
        "# Add a quarter column to the DataFrame\n",
        "earnings_dates['quarter'] = earnings_dates['date'].astype('datetime64[ns]').dt.to_period('Q')\n",
        "\n",
        "# Drop duplicate quarters, keeping the first occurrence\n",
        "earnings_dates = earnings_dates.drop_duplicates(subset='quarter', keep='first')\n",
        "\n",
        "# Extract the filtered dates as a list\n",
        "filtered_earnings_dates = earnings_dates['date'].tolist()\n",
        "\n",
        "# Plot the closing price\n",
        "plt.figure(figsize=(16, 8))\n",
        "plt.plot(nvda_close.index, nvda_close, marker='o', linestyle='-', color='b', label='NVDA Closing Price', alpha = 0.2)\n",
        "\n",
        "# Add colored dots on filtered earnings call dates\n",
        "for date in filtered_earnings_dates:\n",
        "    if date in nvda_close.index:\n",
        "        plt.scatter(date, nvda_close[date], color='r', zorder=5, s = 100, marker = 'x')  # zorder to bring dots to front\n",
        "\n",
        "# Add title and labels\n",
        "plt.title('NVIDIA Stock Price with Quarterly Earnings Call Dates (2019-2024)')\n",
        "plt.xlabel('Date')\n",
        "plt.ylabel('Closing Price (USD)')\n",
        "plt.legend()\n",
        "plt.show()\n"
      ],
      "metadata": {
        "id": "gEFYhcWAhIxf"
      },
      "execution_count": null,
      "outputs": []
    },
    {
      "cell_type": "code",
      "source": [
        "# Plot stock moves after earnings calls\n",
        "\n",
        "# Calculate stock moves after earnings calls\n",
        "earnings_moves = []\n",
        "for date in filtered_earnings_dates:\n",
        "    next_day = date + pd.Timedelta(days=1)\n",
        "    if next_day in nvda_close.index:\n",
        "        move = nvda_close[next_day] - nvda_close[date]\n",
        "        earnings_moves.append({'date': date, 'move': move})\n",
        "\n",
        "# Convert to DataFrame\n",
        "earnings_moves_df = pd.DataFrame(earnings_moves)\n",
        "\n",
        "# Plot the stock moves\n",
        "plt.figure(figsize=(12, 8))\n",
        "plt.bar(earnings_moves_df['date'], earnings_moves_df['move'], color='b', width = 10)\n",
        "plt.axhline(0, color='r', linestyle='--', linewidth = 1, alpha = 0.5)\n",
        "\n",
        "# Hide gridlines\n",
        "plt.grid(False)\n",
        "\n",
        "# Add title and labels\n",
        "plt.title('NVDA Stock Moves After Earnings Calls (Following Day)')\n",
        "plt.xlabel('Earnings Call Date')\n",
        "plt.ylabel('Stock Move (USD)')\n",
        "\n",
        "# Limit the y-axis to the maximum values with some padding\n",
        "y_max = earnings_moves_df['move'].max()\n",
        "y_min = earnings_moves_df['move'].min()\n",
        "padding = (y_max - y_min) * 0.1  # 10% padding\n",
        "plt.ylim(y_min - padding, y_max + padding)\n",
        "\n",
        "# Show the plot\n",
        "plt.show()\n"
      ],
      "metadata": {
        "id": "zhijkRSCl03k"
      },
      "execution_count": null,
      "outputs": []
    },
    {
      "cell_type": "code",
      "source": [
        "# Plot stock market volatility after major events\n",
        "\n",
        "%pip install bs4\n",
        "%pip install requests\n",
        "\n",
        "import yfinance as yf\n",
        "import matplotlib.pyplot as plt\n",
        "import pandas as pd\n",
        "from bs4 import BeautifulSoup\n",
        "import requests\n",
        "\n",
        "### Scrape Wikipedia webpage for historic events\n",
        "\n",
        "# URL for Wiki page\n",
        "url = \"https://en.wikipedia.org/wiki/List_of_stock_market_crashes_and_bear_markets\"\n",
        "\n",
        "# Fetch the content from the URL\n",
        "response = requests.get(url)\n",
        "soup = BeautifulSoup(response.content, 'html.parser')\n",
        "\n",
        "# Find the table in the Wikipedia page\n",
        "table = soup.find('table', {'class': 'wikitable'})\n",
        "\n",
        "# Extract the data from the table\n",
        "data = []\n",
        "for row in table.find_all('tr')[1:]:\n",
        "    cells = row.find_all('td')\n",
        "    if len(cells) >= 4:\n",
        "        date = cells[1].get_text(strip=True)\n",
        "        event = cells[0].get_text(strip=True)\n",
        "        data.append([date, event])\n",
        "\n",
        "# Convert data to DataFrame (just get date and event title)\n",
        "df = pd.DataFrame(data, columns=['Date', 'Event'])\n",
        "\n",
        "# Convert 'Date' to datetime data type, errors='coerce' will convert invalid dates to NaT\n",
        "df['Date'] = pd.to_datetime(df['Date'], errors='coerce')\n",
        "\n",
        "# Remove dates before 2000\n",
        "df = df[df['Date'].dt.year >= 2000]\n",
        "\n",
        "# Drop rows with NaT values in 'Date'\n",
        "df = df.dropna(subset=['Date'])\n",
        "\n",
        "\n",
        "## Keep one event per quarter (for cleaner plotting)\n",
        "\n",
        "# Sort events by date in descending order\n",
        "df = df.sort_values(by='Date', ascending=False)\n",
        "\n",
        "# filter events\n",
        "filtered_events = [] # empty list for events we want to plot\n",
        "last_date = None\n",
        "for index, row in df.iterrows():\n",
        "    if last_date is None or (last_date - row['Date']).days > 200:\n",
        "        filtered_events.append(row)\n",
        "        last_date = row['Date']\n",
        "\n",
        "# Convert filtered events back to a DataFrame\n",
        "df = pd.DataFrame(filtered_events)\n",
        "\n",
        "\n",
        "### Volatility data\n",
        "\n",
        "# Fetch VIX historical data\n",
        "vix_data = yf.download('^VIX', start='2000-01-01', end='2024-05-01')\n",
        "\n",
        "# Convert the datetime index to date only\n",
        "vix_data.index = vix_data.index.date\n",
        "\n",
        "# Fetch the closing price\n",
        "vix_close = vix_data['Close']\n",
        "\n",
        "\n",
        "### Plotting\n",
        "\n",
        "# Plot the closing price\n",
        "plt.figure(figsize=(14, 8))\n",
        "plt.plot(vix_close.index, vix_close, linestyle='-', color='b', label='VIX Closing Price')\n",
        "\n",
        "# Highlight historical events\n",
        "for _, row in df.iterrows(): # df.iterrows() iterates through rows in the dataframe\n",
        "    plt.axvline(x=row['Date'], color='r', linestyle='--', linewidth=1)\n",
        "    plt.text(row['Date']+datetime.timedelta(days=30), plt.ylim()[1]*1.7, row['Event'], rotation=90, verticalalignment='top', fontsize=12, color='r')\n",
        "# row['Date']+datetime.timedelta(days=30) sets the position for the text relative to dotted lines (moving it 30 days to the right)\n",
        "\n",
        "# Add title and labels\n",
        "plt.xlabel('Date')\n",
        "plt.ylabel('VIX Close')\n",
        "plt.title('CBOE Volatility Index (2000 - Present)')\n",
        "plt.ylim(0, 150)\n",
        "\n",
        "# Hide gridlines\n",
        "plt.grid(False)\n",
        "\n",
        "# Show the plot\n",
        "plt.show()\n"
      ],
      "metadata": {
        "id": "jDTdde6UuDSX"
      },
      "execution_count": null,
      "outputs": []
    }
  ]
}