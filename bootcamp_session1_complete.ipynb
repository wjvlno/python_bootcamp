{
  "nbformat": 4,
  "nbformat_minor": 0,
  "metadata": {
    "colab": {
      "provenance": []
    },
    "kernelspec": {
      "name": "python3",
      "display_name": "Python 3"
    },
    "language_info": {
      "name": "python"
    }
  },
  "cells": [
    {
      "cell_type": "code",
      "execution_count": 2,
      "metadata": {
        "colab": {
          "base_uri": "https://localhost:8080/"
        },
        "id": "wG23w803vC7K",
        "outputId": "0eda0eef-0ad5-466f-df08-6da5d4453365"
      },
      "outputs": [
        {
          "output_type": "stream",
          "name": "stdout",
          "text": [
            "Square root of 16 is: 4.0\n",
            "Square root of 16 is: 4.0\n",
            "Value of pi is: 3.141592653589793\n",
            "Value of pi is: 3.141592653589793\n"
          ]
        }
      ],
      "source": [
        "# Importing Modules and Functions (pt 1)\n",
        "# This cell is already complete\n",
        "import numpy as np\n",
        "from math import sqrt, pi\n",
        "# import math\n",
        "\n",
        "# Using the imported package and functions\n",
        "\n",
        "# build a numpy array\n",
        "array = np.array([2, 6, 8])\n",
        "\n",
        "# sum elements in array\n",
        "array_sum = np.sum(array)\n",
        "\n",
        "# calculation with loaded function (math.sqrt)\n",
        "print(\"Square root of 16 is:\", sqrt(16))\n",
        "print(f\"Square root of {array_sum} is: {sqrt(array_sum)}\") # using f strings\n",
        "\n",
        "print(\"Value of pi is:\", pi)\n",
        "print(f\"Value of pi is: {pi}\") # using f strings\n"
      ]
    },
    {
      "cell_type": "code",
      "source": [
        "# Importing Modules and Functions (pt 2)\n",
        "\n",
        "# Task: Import the datetime module and print the current date and time\n",
        "# Tip: see what exists within a module by using 'dir(module_name)'\n",
        "\n",
        "################################################################################\n",
        "\n",
        "# Your code here\n",
        "import datetime\n",
        "# check what we can do with the 'datetime' module\n",
        "dir(datetime)\n",
        "\n",
        "# import the 'date' class from the 'datetime' module\n",
        "from datetime import date\n",
        "\n",
        "# check methods in the 'date' class\n",
        "dir(date)\n",
        "\n",
        "# 'today' is a method in the 'date' class\n",
        "# adding parentheses - 'today()' - calls this method and returns an object\n",
        "current_date = date.today()\n",
        "print(f\"Today's date is {current_date}\")\n",
        "\n",
        "# the 'current_date' object has attributes we can use individually\n",
        "dir(current_date)\n",
        "\n",
        "# print some attributes (e.g., year, month, & day)\n",
        "print (\"- Year: \", end = \"\")\n",
        "print (current_date.year)\n",
        "\n",
        "print (\"- Month: \", end = \"\")\n",
        "print (current_date.month)\n",
        "\n",
        "print (\"- Day: \", end = \"\")\n",
        "print (current_date.day)\n"
      ],
      "metadata": {
        "colab": {
          "base_uri": "https://localhost:8080/"
        },
        "id": "ccpd5d_0vfOz",
        "outputId": "fae0d6c7-be33-4412-caf9-f94d02e236fc"
      },
      "execution_count": 27,
      "outputs": [
        {
          "output_type": "stream",
          "name": "stdout",
          "text": [
            "Today's date is 2024-05-29\n",
            "- Year: 2024\n",
            "- Month: 5\n",
            "- Day: 29\n"
          ]
        }
      ]
    },
    {
      "cell_type": "code",
      "source": [
        "# import the 'datetime' class from the 'datetime' module\n",
        "from datetime import datetime\n",
        "\n",
        "# check methods in the 'datetime' class\n",
        "dir(datetime)\n",
        "\n",
        "# use the 'now()' method from the 'datetime' class\n",
        "current_datetime = datetime.now()\n",
        "\n",
        "# use the 'time()' method to get JUST the time (ignore the date)\n",
        "current_time = current_datetime.time()\n",
        "\n",
        "# pull the hour and minute attributes and make new variables\n",
        "current_hour = current_time.hour\n",
        "current_minute = current_time.minute\n",
        "\n",
        "# print the current hour and minute timestamp\n",
        "print(f\"It is currently {current_hour}:{current_minute}\")\n",
        "print(f\"- Hour: {current_hour}\")\n",
        "print(f\"- Minute: {current_minute}\")\n"
      ],
      "metadata": {
        "colab": {
          "base_uri": "https://localhost:8080/"
        },
        "id": "P9nT4xc31xiB",
        "outputId": "5aea9141-a159-41e1-c787-25c784747bea"
      },
      "execution_count": 28,
      "outputs": [
        {
          "output_type": "stream",
          "name": "stdout",
          "text": [
            "It is currently 19:45\n",
            "- Hour: 19\n",
            "- Minute: 45\n"
          ]
        }
      ]
    },
    {
      "cell_type": "code",
      "source": [
        "# Bonus: accounting for timezone\n",
        "\n",
        "from datetime import datetime\n",
        "import pytz\n",
        "\n",
        "# use now() method\n",
        "current_datetime = datetime.now(tz=pytz.timezone(\"America/New_York\"))\n",
        "\n",
        "# use time() method\n",
        "current_time = current_datetime.time()\n",
        "\n",
        "# pull attributes\n",
        "current_hour = current_time.hour - 12 # subtract 12 for non-military time\n",
        "current_minute = current_time.minute\n",
        "\n",
        "# print current time\n",
        "print(f\"It is currently {current_hour}:{current_minute}\")\n",
        "print(f\"- Hour: {current_hour}\")\n",
        "print(f\"- Minute: {current_minute}\")"
      ],
      "metadata": {
        "colab": {
          "base_uri": "https://localhost:8080/"
        },
        "id": "vfG0H17_5XuV",
        "outputId": "67261f81-e248-49bb-9f9b-651a90ee8e7c"
      },
      "execution_count": 41,
      "outputs": [
        {
          "output_type": "stream",
          "name": "stdout",
          "text": [
            "It is currently 4:3\n",
            "- Hour: 4\n",
            "- Minute: 3\n",
            "It's 3 minutes past 4 o'clock\n"
          ]
        }
      ]
    },
    {
      "cell_type": "code",
      "source": [
        "# Bonus: making a function that tells the time\n",
        "def whats_the_time(tz):\n",
        "  current_time = datetime.now(tz=pytz.timezone(tz)).time()\n",
        "  current_hour = current_time.hour - 12\n",
        "  current_minute = current_time.minute\n",
        "\n",
        "  if current_minute < 30:\n",
        "    print(f\"It's {current_minute} minutes past {current_hour} o'clock\")\n",
        "  else:\n",
        "    print(f\"It's {60 - current_minute} minutes til {current_hour} o'clock\")\n",
        "\n",
        "# Call the function\n",
        "whats_the_time(\"America/New_York\")"
      ],
      "metadata": {
        "id": "ZkH9PBLy9D3L"
      },
      "execution_count": null,
      "outputs": []
    },
    {
      "cell_type": "code",
      "source": [
        "# Basic Data Types (pt 1)\n",
        "# This cell is already complete\n",
        "integer = 10\n",
        "floating = 10.5\n",
        "string = \"Python Rulez\"\n",
        "boolean = True\n",
        "\n",
        "# Lists: Ordered, mutable collections of items\n",
        "my_list = [1, 2, 3, 4]\n",
        "print(\"List:\", my_list)\n",
        "\n",
        "# Tuples: Ordered, immutable collections of items\n",
        "my_tuple = (1, 2, 3, 4)\n",
        "print(\"Tuple:\", my_tuple)\n",
        "\n",
        "# Dictionaries: Collections of key-value pairs\n",
        "my_dict = {\"last_name\": \"Jergis\", \"first_name\": \"Merv\",  \"age\": 75}\n",
        "print(\"Dictionary:\", my_dict)\n"
      ],
      "metadata": {
        "colab": {
          "base_uri": "https://localhost:8080/"
        },
        "id": "hazMac-FvH80",
        "outputId": "fb7d5d7b-2860-4b5e-9f03-7f81e3bbab3f"
      },
      "execution_count": 42,
      "outputs": [
        {
          "output_type": "stream",
          "name": "stdout",
          "text": [
            "List: [1, 2, 3, 4]\n",
            "Tuple: (1, 2, 3, 4)\n",
            "Dictionary: {'last_name': 'Jergis', 'first_name': 'Bert', 'age': 75}\n"
          ]
        }
      ]
    },
    {
      "cell_type": "code",
      "source": [
        "# Basic Data Types (pt 2)\n",
        "\n",
        "# Task: Create a list of your favorite movies\n",
        "# Your code here\n",
        "\n",
        "fav_movies = [\"Paris, Texas\", \"Spirited Away\", \"Stepbrothers\"]"
      ],
      "metadata": {
        "id": "nsNT5lRyvo9_"
      },
      "execution_count": null,
      "outputs": []
    },
    {
      "cell_type": "code",
      "source": [
        "# Indexing and Slicing (pt 1)\n",
        "# This cell is already complete\n",
        "my_list = [10, 20, 30, 40, 50]\n",
        "\n",
        "# Indexing returns an element\n",
        "first_element = my_list[0]\n",
        "last_element = my_list[-1]\n",
        "\n",
        "# Slicing returns a 'sublist'\n",
        "# when slicing, the start is always included, and the end is always excluded\n",
        "first_four = my_list[0:4]\n",
        "\n",
        "print(first_four)\n",
        "\n",
        "\n",
        "# other ways to slice\n",
        "print(my_list[:2])\n",
        "print(my_list[4:])\n",
        "\n"
      ],
      "metadata": {
        "colab": {
          "base_uri": "https://localhost:8080/"
        },
        "id": "jFWTXWQFvLIi",
        "outputId": "76e10493-a85a-4e0d-939a-02f8896eb8d3"
      },
      "execution_count": 48,
      "outputs": [
        {
          "output_type": "stream",
          "name": "stdout",
          "text": [
            "[10, 20, 30, 40]\n",
            "[10, 20]\n",
            "[50]\n",
            "50\n"
          ]
        }
      ]
    },
    {
      "cell_type": "code",
      "source": [
        "# Indexing and Slicing (pt 2)\n",
        "\n",
        "#  +---+---+---+---+---+---+\n",
        "#  | P | y | t | h | o | n |\n",
        "#  +---+---+---+---+---+---+\n",
        "#  0   1   2   3   4   5   6\n",
        "\n",
        "# Note: with strings, indices fall between characters\n",
        "\n",
        "\n",
        "# Task: Create a string and print its first three characters\n",
        "# Your code here\n",
        "\n",
        "fav_movies = [\"Paris, Texas\", \"Spirited Away\", \"Stepbrothers\"]\n",
        "fav_movie = fav_movies[0]\n",
        "first_three_char = fav_movie[0:3]\n",
        "print(first_three_char)"
      ],
      "metadata": {
        "colab": {
          "base_uri": "https://localhost:8080/"
        },
        "id": "NcZeTdvvvsPi",
        "outputId": "ea3f3482-1460-491c-ad09-6d4d80f30cab"
      },
      "execution_count": 46,
      "outputs": [
        {
          "output_type": "stream",
          "name": "stdout",
          "text": [
            "Par\n"
          ]
        }
      ]
    },
    {
      "cell_type": "code",
      "source": [
        "# Working with dataframes (pt 1)\n",
        "\n",
        "import pandas as pd\n",
        "\n",
        "# Creating DataFrames\n",
        "# This cell is already complete\n",
        "data = {\n",
        "    \"Name\": [\"Alice\", \"Bob\", \"Charlie\"],\n",
        "    \"Age\": [25, 30, 35],\n",
        "    \"City\": [\"New York\", \"Los Angeles\", \"Chicago\"]\n",
        "}\n",
        "df = pd.DataFrame(data)\n",
        "print(df)\n",
        "\n",
        "\n"
      ],
      "metadata": {
        "colab": {
          "base_uri": "https://localhost:8080/"
        },
        "id": "oSBqS8jWvMob",
        "outputId": "730cb2d2-de25-4a2a-e5f7-f9107b32d2ce"
      },
      "execution_count": 49,
      "outputs": [
        {
          "output_type": "stream",
          "name": "stdout",
          "text": [
            "      Name  Age         City\n",
            "0    Alice   25     New York\n",
            "1      Bob   30  Los Angeles\n",
            "2  Charlie   35      Chicago\n"
          ]
        }
      ]
    },
    {
      "cell_type": "code",
      "source": [
        "# Working with dataframes (pt 2)\n",
        "\n",
        "# Task: Create a DataFrame with columns `Product`, `Price`, and `Quantity` with at least three rows of data\n",
        "# Your code here\n",
        "\n",
        "data = {\n",
        "    \"Make\": [\"Volkswagen\", \"Fiat\", \"Ferrari\"],\n",
        "    \"Model\": [\"Jetta\", \"Panda\", \"250 GTO\"],\n",
        "    \"Year\": [2024, 1987, 1963],\n",
        "    \"Price\": [24875, 8200, 70000000],\n",
        "    \"MPG\": [30, 23.7, 13.8]\n",
        "}\n",
        "\n",
        "# Create the DataFrame\n",
        "df = pd.DataFrame(data)\n",
        "\n",
        "# Print the DataFrame\n",
        "print(df)"
      ],
      "metadata": {
        "colab": {
          "base_uri": "https://localhost:8080/"
        },
        "id": "rhLgURjfv35K",
        "outputId": "4e4db9fe-3923-4fe5-bc4a-ac72dcf19ec9"
      },
      "execution_count": 51,
      "outputs": [
        {
          "output_type": "stream",
          "name": "stdout",
          "text": [
            "         Make    Model  Year     Price   MPG\n",
            "0  Volkswagen    Jetta  2024     24875  30.0\n",
            "1        Fiat    Panda  1987      8200  23.7\n",
            "2     Ferrari  250 GTO  1963  70000000  13.8\n"
          ]
        }
      ]
    },
    {
      "cell_type": "code",
      "source": [
        "# Reading and Writing CSVs (pt 1)\n",
        "# This cell is already complete\n",
        "\n",
        "# write your df to a csv file\n",
        "import os\n",
        "\n",
        "file_destination = \"C:/Users/wvillano/Downloads\"\n",
        "filename = \"bootcamp_example.csv\"\n",
        "\n",
        "full_path = os.path.join(file_destination, filename)\n",
        "\n",
        "print(full_path)\n",
        "\n",
        "df.to_csv(full_path)\n",
        "\n",
        "\n",
        "# df = pd.read_csv(\"example.csv\")\n",
        "# print(df)\n"
      ],
      "metadata": {
        "colab": {
          "base_uri": "https://localhost:8080/"
        },
        "id": "4uVRWtBmvOOC",
        "outputId": "32e2288b-dbc2-45c1-ae4b-6a6b553938e9"
      },
      "execution_count": 54,
      "outputs": [
        {
          "output_type": "stream",
          "name": "stdout",
          "text": [
            "C:/Users/wvillano/Downloads/bootcamp_example.csv\n"
          ]
        }
      ]
    },
    {
      "cell_type": "code",
      "source": [
        "# Reading and Writing CSVs (pt 2)\n",
        "\n",
        "# Task: Modify the DataFrame and save the changes to a new CSV file\n",
        "# Your code here\n",
        "\n",
        "\n",
        "# Create a dictionary with the data\n",
        "data = {\n",
        "    \"Product\": [\"Apples\", \"Bananas\", \"Cherries\"],\n",
        "    \"Price\": [1.2, 0.5, 2.5],\n",
        "    \"Quantity\": [10, 20, 15]\n",
        "}\n",
        "\n",
        "# Create the DataFrame\n",
        "df = pd.DataFrame(data)\n",
        "\n",
        "# Print the original DataFrame\n",
        "print(\"Original DataFrame:\")\n",
        "print(df)\n",
        "\n",
        "# Accessing a column and modifying its elements\n",
        "# Increase the price of all products by 10%\n",
        "df[\"Price\"] = df[\"Price\"] * 1.10\n",
        "print(\"\\nDataFrame after increasing prices by 10%:\")\n",
        "print(df)\n",
        "\n",
        "# Accessing a row by index and modifying its elements\n",
        "# Set the quantity of Bananas to 25\n",
        "df.loc[1, \"Quantity\"] = 25\n",
        "print(\"\\nDataFrame after changing the quantity of Bananas to 25:\")\n",
        "print(df)\n",
        "\n",
        "# Accessing a specific element using row and column indices\n",
        "# Change the price of Cherries to 3.0\n",
        "df.at[2, \"Price\"] = 3.0\n",
        "print(\"\\nDataFrame after changing the price of Cherries to 3.0:\")\n",
        "print(df)\n"
      ],
      "metadata": {
        "id": "oN3IVT_Mv7sq"
      },
      "execution_count": null,
      "outputs": []
    }
  ]
}