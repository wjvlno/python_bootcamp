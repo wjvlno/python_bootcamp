{
  "nbformat": 4,
  "nbformat_minor": 0,
  "metadata": {
    "colab": {
      "provenance": []
    },
    "kernelspec": {
      "name": "python3",
      "display_name": "Python 3"
    },
    "language_info": {
      "name": "python"
    }
  },
  "cells": [
    {
      "cell_type": "markdown",
      "source": [
        "Importing Modules and Functions"
      ],
      "metadata": {
        "id": "f59d63_oE8Jb"
      }
    },
    {
      "cell_type": "code",
      "execution_count": null,
      "metadata": {
        "id": "wkB7xnLHcumK"
      },
      "outputs": [],
      "source": [
        "# Importing Modules and Functions - Tutorial\n",
        "\n",
        "# import numpy module. We'll call it as 'np' from here forward\n",
        "import numpy as np\n",
        "# import specific functions/classes from 'math' module\n",
        "from math import sqrt, pi\n",
        "\n",
        "# Using the imported package and functions\n",
        "\n",
        "# build a numpy array\n",
        "array = np.array([2, 6, 8])\n",
        "\n",
        "# sum elements in the array\n",
        "array_sum = np.sum(array)\n",
        "\n",
        "# perform calculation with a loaded function from 'math' (sqrt)\n",
        "root_value = sqrt(array_sum)\n",
        "\n",
        "# printing values to the screen\n",
        "print(\"Square root of 16 is:\", sqrt(16))\n",
        "print(f\"Square root of {array_sum} is: {sqrt(array_sum)}\") # using f strings\n",
        "\n",
        "# using 'pi' from 'math' module\n",
        "print(\"Value of pi is:\", pi)\n",
        "print(f\"Value of pi is: {pi}\") # using f strings\n"
      ]
    },
    {
      "cell_type": "code",
      "source": [
        "# Importing Modules and Functions - Task #1\n",
        "# Working with a new module\n",
        "\n",
        "# 1. Import the 'datetime' module\n",
        "import ...\n",
        "\n",
        "# 2. Use 'dir(module_name)' to check what we can do with the 'datetime' module\n",
        "dir(...)\n",
        "\n",
        "# 3. import the 'date' class from the 'datetime' module\n",
        "from ... import ...\n",
        "\n",
        "# 4. check methods in the 'date' class using dir()\n",
        "...\n",
        "\n",
        "# 5. Make a variable, 'current_date', using 'today' method in 'date' class\n",
        "# Note: adding parentheses - 'today()' - calls this method and returns an object\n",
        "# that we can set as a variable\n",
        "current_date = ...\n",
        "print(f\"Today's date is {current_date}\")\n",
        "\n",
        "# 6. Use dir() to see the attributes in our new variable, current_date\n",
        "...\n",
        "\n",
        "#7.  print some attributes (e.g., year, month, & day)\n",
        "print (\"- Year: \", end = \"\")\n",
        "print (...)\n",
        "\n",
        "print (\"- Month: \", end = \"\")\n",
        "print (...)\n",
        "\n",
        "print (\"- Day: \", end = \"\")\n",
        "print (...)\n"
      ],
      "metadata": {
        "id": "gfAoAJMUfFdn"
      },
      "execution_count": null,
      "outputs": []
    },
    {
      "cell_type": "code",
      "source": [
        "# Importing Modules and Functions - Task #2\n",
        "\n",
        "# 1. import the 'datetime' class from the 'datetime' module\n",
        "from ... import ...\n",
        "\n",
        "# 2. check methods in the 'datetime' class\n",
        "dir(...)\n",
        "\n",
        "# 3. use the 'now()' method from the 'datetime' class\n",
        "current_datetime = ...\n",
        "\n",
        "# 4. use the 'time()' method to get JUST the time (ignore the date)\n",
        "current_time = ...\n",
        "\n",
        "# 5. pull the hour and minute attributes and make new variables\n",
        "current_hour = ...\n",
        "current_minute = ...\n",
        "\n",
        "# 6. print the current hour and minute timestamp\n",
        "print(f\"It is currently {...}:{current_minute:02d}\") # zero-pad minutes\n",
        "print(f\"- Hour: {...}\")\n",
        "print(f\"- Minute: {...}\")\n"
      ],
      "metadata": {
        "id": "G9fH74nhfGg5"
      },
      "execution_count": null,
      "outputs": []
    },
    {
      "cell_type": "code",
      "source": [
        "# Bonus: accounting for timezones\n",
        "\n",
        "from datetime import datetime\n",
        "import pytz\n",
        "\n",
        "# use now() method\n",
        "current_datetime = datetime.now(tz=pytz.timezone(\"America/New_York\"))\n",
        "\n",
        "# use time() method\n",
        "current_time = current_datetime.time()\n",
        "\n",
        "# pull attributes\n",
        "current_hour = current_time.hour\n",
        "am_pm = \"AM\"\n",
        "if current_hour > 12:\n",
        "  current_hour =-12 # subtract 12 for non-military time\n",
        "  am_pm = \"PM\"\n",
        "current_minute = current_time.minute\n",
        "\n",
        "# print current time\n",
        "print(f\"Here, it's {current_hour}:{current_minute:02d} {am_pm}\") # zero-pad minutes\n",
        "print(f\"- Hour: {current_hour}\")\n",
        "print(f\"- Minute: {current_minute}\")"
      ],
      "metadata": {
        "id": "uR16-XtvgLb0"
      },
      "execution_count": null,
      "outputs": []
    },
    {
      "cell_type": "code",
      "source": [
        "# Bonus: making a function that tells the time\n",
        "\n",
        "def whats_the_time(tz): # takes one input (timezone)\n",
        "  current_time = datetime.now(tz=pytz.timezone(tz)).time()\n",
        "\n",
        "  current_hour = current_time.hour\n",
        "  if current_hour > 12:\n",
        "    current_hour =-12 # subtract 12 for non-military time\n",
        "\n",
        "  current_minute = current_time.minute\n",
        "\n",
        "  location_from_tz = tz.split('/',1)[1].replace('_', ' ')\n",
        "\n",
        "  if current_minute < 30:\n",
        "    print(f\"It's {current_minute} minutes past {current_hour} o'clock in {location_from_tz}\")\n",
        "  elif current_minute > 30:\n",
        "    print(f\"It's {60 - current_minute} minutes to {current_hour} o'clock in {location_from_tz}\")\n",
        "  elif current_minute == 30:\n",
        "    print(f\"It's half past {current_hour} o'clock in {location_from_tz}\")\n",
        "\n",
        "# Call the function with \"America/New_York\" timezone\n",
        "whats_the_time(\"America/New_York\")"
      ],
      "metadata": {
        "id": "WbVzeiO8gOjW"
      },
      "execution_count": null,
      "outputs": []
    },
    {
      "cell_type": "markdown",
      "source": [
        "Basic Data Types"
      ],
      "metadata": {
        "id": "b4KMHwcMFEsc"
      }
    },
    {
      "cell_type": "code",
      "source": [
        "# Basic Data Types - Tutorial\n",
        "integer = 10\n",
        "floating = 10.5\n",
        "string = \"Python Rulez\"\n",
        "boolean = True\n",
        "\n",
        "# Lists: Ordered, mutable collections of items\n",
        "# use brackets [x1, x2, ...]\n",
        "my_list = [1, 2, 3, 4]\n",
        "print(\"List:\", my_list)\n",
        "print()\n",
        "\n",
        "# Tuples: Ordered, immutable collections of items\n",
        "# use parentheses (x1, x2, ...)\n",
        "my_tuple = (1, 2, 3, 4)\n",
        "print(\"Tuple:\", my_tuple)\n",
        "print()\n",
        "\n",
        "# Dictionaries: Collections of key-value pairs\n",
        "# use curly braces {\"key1\": value1, \"key2\": value2, ...}\n",
        "my_dict = {\"last_name\": \"Jergis\",\n",
        "           \"first_name\": \"Merv\",\n",
        "           \"age\": 75}\n",
        "print(\"Dictionary:\", my_dict)\n",
        "print(my_dict.keys())"
      ],
      "metadata": {
        "id": "MjrtCdXcggmz"
      },
      "execution_count": null,
      "outputs": []
    },
    {
      "cell_type": "code",
      "source": [
        "# Basic Data Types - Task\n",
        "\n",
        "# 1. Create a list of your favorite movies\n",
        "\n",
        "fav_movies = ...\n",
        "\n",
        "# 2. Create a list of the years they were made\n",
        "movie_years = ...\n",
        "\n",
        "# 3. Make a dictionary from your lists with keys: Title, Year\n",
        "movie_dict = ...\n",
        "print(movie_dict)"
      ],
      "metadata": {
        "id": "fzIIGTpYgv2P"
      },
      "execution_count": null,
      "outputs": []
    },
    {
      "cell_type": "markdown",
      "source": [
        "Indexing and Slicing"
      ],
      "metadata": {
        "id": "8Df9DhrrFI9A"
      }
    },
    {
      "cell_type": "code",
      "source": [
        "# Indexing and Slicing - Tutorial #1\n",
        "\n",
        "# Make a list of integers\n",
        "my_list = [10, 20, 30, 40, 50]\n",
        "print(my_list)\n",
        "print()\n",
        "\n",
        "# Check number of elements in the list\n",
        "print(\"List length:\",len(my_list))\n",
        "print()\n",
        "\n",
        "# Indexing returns an element\n",
        "first_element = my_list[0]\n",
        "last_element = my_list[-1]\n",
        "\n",
        "# Slicing returns a 'sublist'\n",
        "# When slicing, the start is always included, and the end is always excluded\n",
        "first_four = my_list[0:4]\n",
        "print(\"First four elements:\", first_four)\n",
        "print()\n",
        "\n",
        "# Other ways to slice\n",
        "print(\"First two elements:\", my_list[:2]) # pull the first two elements\n",
        "print()\n",
        "\n",
        "print(\"Elements after fourth:\", my_list[4:]) # pull elements after position 4\n",
        "print()\n",
        "\n",
        "# Using a 'step'; e.g., skipping every other number\n",
        "# Format: 'start:stop:stepSize'\n",
        "print(\"Skipping every other element:\", my_list[0:len(my_list):2]) # here, 2 is the step size"
      ],
      "metadata": {
        "id": "cuAcKP7MhEoO"
      },
      "execution_count": null,
      "outputs": []
    },
    {
      "cell_type": "code",
      "source": [
        "# Indexing and Slicing - Task #1\n",
        "\n",
        "# 1. Index 40 from 'my_list'\n",
        "...\n",
        "\n",
        "# 2. Slice the values 20 and 30 from 'my_list'\n",
        "..."
      ],
      "metadata": {
        "id": "2Momr67tC799"
      },
      "execution_count": null,
      "outputs": []
    },
    {
      "cell_type": "code",
      "source": [
        "# Indexing and Slicing - Tutorial #2\n",
        "\n",
        "# Numpy has an array class too\n",
        "# We can index numpy arrays the same way as above\n",
        "\n",
        "# Make a 1-Dimensional array of 10 random numbers between 0 and 100\n",
        "new_array = np.random.rand(10)*100\n",
        "print(new_array)\n",
        "\n",
        "# Slice the first 5 values\n",
        "print(new_array[0:5])\n",
        "\n",
        "# Index the 5th value\n",
        "print(new_array[4])\n"
      ],
      "metadata": {
        "id": "5clFzjeDs1LQ"
      },
      "execution_count": null,
      "outputs": []
    },
    {
      "cell_type": "code",
      "source": [
        "# Conditional indexing and slicing - Tutorial\n",
        "\n",
        "# pull values below 42 (a few ways to do this)\n",
        "\n",
        "# First\n",
        "nums_below_list1 = new_array[new_array < 42]\n",
        "print(nums_below_list1)\n",
        "\n",
        "# Second\n",
        "nums_below_list2 = []\n",
        "for num in new_array:\n",
        "  if num < 42:\n",
        "    nums_below_list2.append(num)\n",
        "print(nums_below_list2)\n",
        "\n",
        "# Third\n",
        "nums_below_list3 = [num for num in new_array if num < 42]\n",
        "print(nums_below_list3)\n",
        "\n",
        "# More on these last two methods to come..."
      ],
      "metadata": {
        "id": "FKvdYQpDt3fr"
      },
      "execution_count": null,
      "outputs": []
    },
    {
      "cell_type": "code",
      "source": [
        "# Indexing and Slicing - Task\n",
        "\n",
        "# Here's what string slicing looks like:\n",
        "#  +---+---+---+---+---+---+\n",
        "#  | P | y | t | h | o | n |\n",
        "#  +---+---+---+---+---+---+\n",
        "#  0   1   2   3   4   5   6\n",
        "# Note: with strings, indices fall between characters\n",
        "\n",
        "# Start with a list of strings\n",
        "string_list = [\"Python\", \"is\", \"a\", \"snake\", \"and\", \"a\", \"language\"]\n",
        "\n",
        "# Index the first string\n",
        "first_string = ...\n",
        "\n",
        "# Slice the first 3 characters of the first string\n",
        "first_three_char = ...\n",
        "\n",
        "print(first_three_char)"
      ],
      "metadata": {
        "id": "dei2S2cjhu0n"
      },
      "execution_count": null,
      "outputs": []
    },
    {
      "cell_type": "markdown",
      "source": [
        "Working with DataFrames"
      ],
      "metadata": {
        "id": "FNK-LpkRFg4r"
      }
    },
    {
      "cell_type": "code",
      "source": [
        "# Working with DataFrames - Tutorial #1\n",
        "\n",
        "import pandas as pd\n",
        "\n",
        "# Building a DataFrame\n",
        "\n",
        "# We'll start by making a dictionary\n",
        "data = {\n",
        "    \"Make\": [\"Volkswagen\", \"Fiat\", \"Ferrari\", \"Ferrari\"],\n",
        "    \"Model\": [\"Jetta\", \"Panda\", \"250 GTO\", \"California\"],\n",
        "    \"Year\": [2024, 1987, 1963, 2021],\n",
        "    \"Price\": [24875.00, 8200.00, 70000000.00, 255995.00],\n",
        "    \"MPG\": [30, 8.9, 13.8, 25]\n",
        "}\n",
        "\n",
        "# Then convert that dictionary to a DataFrame\n",
        "df = pd.DataFrame(data)\n",
        "\n",
        "print(df)"
      ],
      "metadata": {
        "id": "cSVc_yXziVJ6"
      },
      "execution_count": null,
      "outputs": []
    },
    {
      "cell_type": "code",
      "source": [
        "# Working with DataFrames - Tutorial #2\n",
        "\n",
        "# Sorting the DataFrame\n",
        "\n",
        "# Sorting by the 'Price' column in ascending order\n",
        "df_sorted_asc = df.sort_values(by=\"Price\")\n",
        "print(\"\\nDataFrame sorted by Price (ascending):\")\n",
        "print(df_sorted_asc)\n",
        "\n",
        "# Sorting in descending order\n",
        "df_sorted_desc = df.sort_values(by=\"Price\", ascending=False)\n",
        "print(\"\\nDataFrame sorted by Price (descending):\")\n",
        "print(df_sorted_desc)\n",
        "\n",
        "# Sorting by multiple columns\n",
        "df_sorted_twoCol = df.sort_values(by=[\"Make\", \"Price\"], ascending=[True, False])\n",
        "print(\"\\nDataFrame sorted by Make (ascending) and Price (descending):\")\n",
        "print(df_sorted_twoCol)"
      ],
      "metadata": {
        "id": "tMj6mR-dwUg2"
      },
      "execution_count": null,
      "outputs": []
    },
    {
      "cell_type": "code",
      "source": [
        "# Working with DataFrames - Task\n",
        "\n",
        "# Create a DataFrame with columns `Product`, `Price`, and `Quantity` with at\n",
        "# least three rows of data\n",
        "\n",
        "# 1. Make your data dictionary first\n",
        "data = {\n",
        "    ...\n",
        "}\n",
        "\n",
        "# 2. Create the DataFrame\n",
        "df = ...\n",
        "\n",
        "# Print the DataFrame\n",
        "print(df)"
      ],
      "metadata": {
        "id": "dbc9rmABiiUW"
      },
      "execution_count": null,
      "outputs": []
    },
    {
      "cell_type": "code",
      "source": [
        "# Reading and Writing CSVs - Tutorial #1\n",
        "\n",
        "# We'll import the 'os' module to help write file paths for saving/reading\n",
        "import os\n",
        "\n",
        "# set your file destination\n",
        "file_destination = \"C:/Users/wvillano/Downloads\" # replace with your own path\n",
        "\n",
        "# name your CSV\n",
        "file_destination = \"bootcamp_example.csv\"\n",
        "\n",
        "# Use 'os' to create the full filepath\n",
        "full_path = os.path.join(file_destination, filename)\n",
        "print(full_path)\n",
        "\n",
        "# write your df to a csv file\n",
        "df.to_csv(full_path)\n",
        "\n",
        "# read in the csv you just saved under a new variable name\n",
        "df_copy = pd.read_csv(full_path)\n",
        "print(df_copy)\n"
      ],
      "metadata": {
        "id": "NA6zZLscwnRg"
      },
      "execution_count": null,
      "outputs": []
    },
    {
      "cell_type": "code",
      "source": [
        "# Indexing and Modifying DataFrames - Tutorial\n",
        "\n",
        "my_df = pd.DataFrame({\n",
        "    \"Product\": [\"Dell XPS 13\", \"Double Espresso\", \"White T-shirt\"],\n",
        "    \"Price\": [1595.00, 3.15, 15.95],\n",
        "    \"Quantity\": [1, 465000, 42]\n",
        "})\n",
        "\n",
        "# Print the original DataFrame\n",
        "print(\"Original DataFrame:\")\n",
        "print(my_df)\n",
        "print()\n",
        "\n",
        "# Accessing a column and modifying its elements\n",
        "# Increase the price of all products by 10%\n",
        "my_df[\"Price\"] = my_df[\"Price\"] * 1.20\n",
        "print(\"Uh oh lol! Inflation! Prices are up 20%:\")\n",
        "print(my_df)\n",
        "print()\n",
        "\n",
        "# Use '.loc' to access/modify multiple elements\n",
        "# IMPORTANT: Unlike list slicing, .loc is END INCLUSIVE.\n",
        "# Set the quantity of the first two elements to 0\n",
        "new_quantity = 0\n",
        "my_df.loc[0:1, \"Quantity\"] = new_quantity\n",
        "# this makes a string that combines the two product names\n",
        "selected_products = \" and \".join(my_df.loc[0:1, \"Product\"])\n",
        "print(f\"Changing the quantity of {selected_products} to {new_quantity}:\")\n",
        "print(my_df)\n",
        "print()\n",
        "\n",
        "# Accessing a specific element using row and column indices\n",
        "# Change the price of the second element to 50\n",
        "new_price = 50\n",
        "my_df.at[2, \"Price\"] = new_price\n",
        "selected_products = my_df.at[2, 'Product']\n",
        "# Adding ':.2f' to the 'new_price' variable tells python to print 2 decimals\n",
        "print(f\"Changing the price of {selected_products} to ${new_price:.2f}:\")\n",
        "print(my_df)\n"
      ],
      "metadata": {
        "id": "_iEnrnAf4qQy"
      },
      "execution_count": null,
      "outputs": []
    }
  ]
}