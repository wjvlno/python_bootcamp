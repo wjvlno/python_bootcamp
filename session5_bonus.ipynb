{
  "nbformat": 4,
  "nbformat_minor": 0,
  "metadata": {
    "colab": {
      "provenance": [],
      "authorship_tag": "ABX9TyPvZ8kU6Zr7p+ZPnVAdjUJ8",
      "include_colab_link": true
    },
    "kernelspec": {
      "name": "python3",
      "display_name": "Python 3"
    },
    "language_info": {
      "name": "python"
    }
  },
  "cells": [
    {
      "cell_type": "markdown",
      "metadata": {
        "id": "view-in-github",
        "colab_type": "text"
      },
      "source": [
        "<a href=\"https://colab.research.google.com/github/wjvlno/python_bootcamp/blob/main/session5_bonus.ipynb\" target=\"_parent\"><img src=\"https://colab.research.google.com/assets/colab-badge.svg\" alt=\"Open In Colab\"/></a>"
      ]
    },
    {
      "cell_type": "markdown",
      "source": [
        "# Aggregating and Visualizing Presidential Polling Trends"
      ],
      "metadata": {
        "id": "T-xI-ZCXLPyZ"
      }
    },
    {
      "cell_type": "code",
      "source": [
        "## Step 1: Import required libraries\n",
        "import requests\n",
        "import pandas as pd\n",
        "import matplotlib.pyplot as plt\n",
        "import seaborn as sns\n",
        "from datetime import datetime"
      ],
      "metadata": {
        "id": "gwpeCl3fKnp0"
      },
      "execution_count": null,
      "outputs": []
    },
    {
      "cell_type": "code",
      "source": [
        "## Step 2: Define the URL for the polling data\n",
        "url = 'https://projects.fivethirtyeight.com/polls/data/presidential_general_averages.csv'\n",
        "\n",
        "## Step 3: Fetch the data\n",
        "response = requests.get(url)\n",
        "with open('president_general_polls.csv', 'wb') as file:\n",
        "    file.write(response.content)\n",
        "\n",
        "## Step 4: Load the data into a pandas DataFrame\n",
        "polls_df = pd.read_csv('president_general_polls.csv')"
      ],
      "metadata": {
        "id": "C94Nb2spKsPY"
      },
      "execution_count": null,
      "outputs": []
    },
    {
      "cell_type": "code",
      "source": [
        "## Step 5: Explore the data\n",
        "print(polls_df.head())"
      ],
      "metadata": {
        "id": "Gn-B14yDKuqU"
      },
      "execution_count": null,
      "outputs": []
    },
    {
      "cell_type": "code",
      "source": [
        "## Step 6: Filter the data for Trump vs. Biden matchups\n",
        "polls_df = polls_df[polls_df['candidate'].str.contains(\"Trump\") | polls_df['candidate'].str.contains(\"Biden\")]"
      ],
      "metadata": {
        "id": "DCPmmVEPKxdd"
      },
      "execution_count": null,
      "outputs": []
    },
    {
      "cell_type": "code",
      "source": [
        "## Step 7: Add a date column and convert to datetime\n",
        "polls_df['date'] = pd.to_datetime(polls_df['date'])\n",
        "\n",
        "## Step 8: Extract month and year from the date\n",
        "polls_df['year_month'] = polls_df['date'].dt.to_period('M')\n",
        "\n",
        "## Step 9: Define the date of Trump's conviction\n",
        "conviction_date = datetime(2023, 12, 15)\n",
        "\n",
        "## Step 10: Separate data into before and after the conviction\n",
        "before_conviction = polls_df[polls_df['date'] < conviction_date]\n",
        "after_conviction = polls_df[polls_df['date'] >= conviction_date]"
      ],
      "metadata": {
        "id": "2uNRdGwnK1Hk"
      },
      "execution_count": null,
      "outputs": []
    },
    {
      "cell_type": "code",
      "source": [
        "## Step 11: Group by month, state, and candidate to calculate average percentages\n",
        "grouped_df = polls_df.groupby(['year_month', 'state', 'candidate']).agg({\n",
        "    'pct_estimate': ['mean', 'std']\n",
        "}).reset_index()\n",
        "grouped_df.columns = ['year_month', 'state', 'candidate', 'mean_pct_estimate', 'std_pct_estimate']\n",
        "\n",
        "## Step 12: Create a pivot table for plotting\n",
        "pivot_df = grouped_df.pivot_table(index=['year_month', 'state'], columns='candidate', values=['mean_pct_estimate', 'std_pct_estimate']).reset_index()\n",
        "pivot_df.columns = ['year_month', 'state', 'Trump_mean', 'Biden_mean', 'Trump_std', 'Biden_std']"
      ],
      "metadata": {
        "id": "HwU5p4s3K3FP"
      },
      "execution_count": null,
      "outputs": []
    },
    {
      "cell_type": "code",
      "source": [
        "## Step 13: Define swing states\n",
        "swing_states = ['Georgia', 'Michigan', 'Pennsylvania', 'Wisconsin']\n",
        "\n",
        "## Step 14: Plot the results for swing states\n",
        "for state in swing_states:\n",
        "    state_df = pivot_df[pivot_df['state'] == state]\n",
        "    plt.figure(figsize=(10, 5))\n",
        "    plt.errorbar(state_df['year_month'].astype(str), state_df['Trump_mean'], yerr=state_df['Trump_std'], label='Donald Trump', color='red', fmt='-o')\n",
        "    plt.errorbar(state_df['year_month'].astype(str), state_df['Biden_mean'], yerr=state_df['Biden_std'], label='Joe Biden', color='blue', fmt='-o')\n",
        "    plt.title(f'Polling Trends in {state}')\n",
        "    plt.xlabel('Month')\n",
        "    plt.ylabel('Average Polling Percentage')\n",
        "    plt.legend()\n",
        "    plt.xticks(rotation=45)\n",
        "    plt.tight_layout()\n",
        "    plt.show()\n",
        "\n",
        "\n"
      ],
      "metadata": {
        "id": "DcmU1z9bIGj_"
      },
      "execution_count": null,
      "outputs": []
    },
    {
      "cell_type": "code",
      "source": [
        "## Step 15: Calculate and plot national averages\n",
        "national_df = pivot_df.groupby('year_month').agg({\n",
        "    'Trump_mean': ['mean', 'std'],\n",
        "    'Biden_mean': ['mean', 'std']\n",
        "}).reset_index()\n",
        "national_df.columns = ['year_month', 'Trump_national_mean', 'Trump_national_std', 'Biden_national_mean', 'Biden_national_std']\n",
        "\n",
        "plt.figure(figsize=(12, 6))\n",
        "plt.errorbar(national_df['year_month'].astype(str), national_df['Trump_national_mean'], yerr=national_df['Trump_national_std'], label='Donald Trump', color='red', fmt='-o')\n",
        "plt.errorbar(national_df['year_month'].astype(str), national_df['Biden_national_mean'], yerr=national_df['Biden_national_std'], label='Joe Biden', color='blue', fmt='-o')\n",
        "plt.title('National Polling Trends')\n",
        "plt.xlabel('Month')\n",
        "plt.ylabel('Average Polling Percentage')\n",
        "plt.legend()\n",
        "plt.xticks(rotation=45)\n",
        "plt.tight_layout()\n",
        "plt.show()"
      ],
      "metadata": {
        "id": "RZcUXx8zLAAO"
      },
      "execution_count": null,
      "outputs": []
    },
    {
      "cell_type": "markdown",
      "source": [
        "# Accounting for Polling Error"
      ],
      "metadata": {
        "id": "o4OC56EALBwH"
      }
    },
    {
      "cell_type": "code",
      "source": [
        "# Python Bootcamp: Aggregating and Visualizing 2024 Presidential Election Polling Data with Custom Weights\n",
        "\n",
        "## Step 1: Import required libraries\n",
        "import requests\n",
        "import pandas as pd\n",
        "import matplotlib.pyplot as plt\n",
        "import seaborn as sns\n",
        "from datetime import datetime\n",
        "\n",
        "## Step 2: Define the URL for the polling data\n",
        "url = 'https://projects.fivethirtyeight.com/polls/data/presidential_general_averages.csv'\n",
        "\n",
        "## Step 3: Fetch the data\n",
        "response = requests.get(url)\n",
        "with open('presidential_general_averages.csv', 'wb') as file:\n",
        "    file.write(response.content)\n",
        "\n",
        "## Step 4: Load the data into a pandas DataFrame\n",
        "polls_df = pd.read_csv('presidential_general_averages.csv')\n",
        "\n",
        "## Step 5: Explore the data\n",
        "print(polls_df.head())\n",
        "\n",
        "## Step 6: Filter the data for Trump vs. Biden matchups\n",
        "polls_df = polls_df[(polls_df['candidate'] == 'Trump') | (polls_df['candidate'] == 'Biden')]\n",
        "\n",
        "## Step 7: Add a date column and convert to datetime\n",
        "polls_df['date'] = pd.to_datetime(polls_df['date'])\n",
        "\n",
        "## Step 8: Define the date of Trump's conviction\n",
        "conviction_date = datetime(2024, 5, 30)\n",
        "\n",
        "## Step 9: Create a column to distinguish before and after the conviction\n",
        "polls_df['period'] = polls_df['date'].apply(lambda x: 'Before' if x < conviction_date else 'After')\n",
        "\n",
        "## Step 10: Define swing states\n",
        "swing_states = ['Arizona', 'Florida', 'Georgia', 'Michigan', 'North Carolina', 'Pennsylvania', 'Wisconsin']\n",
        "\n",
        "## Step 11: Filter the data for swing states\n",
        "polls_df = polls_df[polls_df['state'].isin(swing_states)]\n",
        "\n",
        "## Step 12: Calculate the confidence interval width and weights\n",
        "polls_df['ci_width'] = polls_df['hi'] - polls_df['lo']\n",
        "polls_df['ci_weight'] = 1 / polls_df['ci_width']\n",
        "polls_df['standardized_weight'] = polls_df['ci_weight'] / polls_df['ci_weight'].mean()\n",
        "\n",
        "\n"
      ],
      "metadata": {
        "id": "RfgexZqM5H_b"
      },
      "execution_count": null,
      "outputs": []
    },
    {
      "cell_type": "code",
      "source": [
        "# Plotting average polling data over time for four select states with error ribbons\n",
        "\n",
        "# Define the four states to plot\n",
        "states_to_plot = ['Arizona', 'Florida', 'Georgia', 'Michigan']\n",
        "\n",
        "# Filter the data for the selected states\n",
        "filtered_df = pivot_df[pivot_df['state'].isin(states_to_plot)]\n",
        "\n",
        "# Plot the data\n",
        "fig, axes = plt.subplots(2, 2, figsize=(15, 10), sharex=True, sharey=True)\n",
        "fig.suptitle('Polling Averages Over Time for Selected States')\n",
        "\n",
        "for i, state in enumerate(states_to_plot):\n",
        "    ax = axes[i // 2, i % 2]\n",
        "    state_df = filtered_df[filtered_df['state'] == state]\n",
        "\n",
        "    ax.plot(state_df['date'], state_df['Trump_pct'], label='Donald Trump', color='red')\n",
        "    ax.fill_between(state_df['date'], state_df['Trump_pct'] - state_df['Trump_weight'], state_df['Trump_pct'] + state_df['Trump_weight'], color='red', alpha=0.3)\n",
        "\n",
        "    ax.plot(state_df['date'], state_df['Biden_pct'], label='Joe Biden', color='blue')\n",
        "    ax.fill_between(state_df['date'], state_df['Biden_pct'] - state_df['Biden_weight'], state_df['Biden_pct'] + state_df['Biden_weight'], color='blue', alpha=0.3)\n",
        "\n",
        "    ax.set_title(state)\n",
        "    ax.set_xlabel('Date')\n",
        "    ax.set_ylabel('Polling Percentage')\n",
        "    ax.legend()\n",
        "\n",
        "plt.tight_layout(rect=[0, 0, 1, 0.96])\n",
        "plt.show()\n"
      ],
      "metadata": {
        "id": "MRhY-YZS7Jln"
      },
      "execution_count": null,
      "outputs": []
    },
    {
      "cell_type": "code",
      "source": [
        "## Step 13: Calculate the weighted average difference between Trump and Biden percentages\n",
        "pivot_df = polls_df.pivot_table(index=['date', 'state', 'period'], columns='candidate', values=['pct_estimate', 'standardized_weight'], aggfunc={'pct_estimate': 'mean', 'standardized_weight': 'sum'}).reset_index()\n",
        "pivot_df.columns = ['date', 'state', 'period', 'Biden_pct', 'Trump_pct', 'Biden_weight', 'Trump_weight']\n",
        "\n",
        "pivot_df['weighted_diff'] = (pivot_df['Trump_pct'] * pivot_df['Trump_weight'] - pivot_df['Biden_pct'] * pivot_df['Biden_weight']) / (pivot_df['Trump_weight'] + pivot_df['Biden_weight'])\n",
        "\n",
        "## Step 14: Plot the results as violin plots\n",
        "plt.figure(figsize=(15, 10))\n",
        "sns.violinplot(x='state', y='weighted_diff', hue='period', data=pivot_df, split=True, inner='quart', palette={'Before': 'lightblue', 'After': 'lightcoral'})\n",
        "plt.title('Polling Averages Before vs. After Trump\\'s Conviction (5/30/24)')\n",
        "plt.xlabel('State')\n",
        "plt.ylabel('Difference in Polling Percentage (Trump - Biden)')\n",
        "plt.legend(title='Period')\n",
        "plt.xticks(rotation=45)\n",
        "plt.tight_layout()\n",
        "plt.show()\n",
        "\n",
        "## Step 15: Plot the average difference with color based on who is ahead\n",
        "pivot_df['ahead'] = pivot_df['weighted_diff'].apply(lambda x: 'Trump' if x > 0 else 'Biden')\n",
        "\n",
        "plt.figure(figsize=(15, 10))\n",
        "sns.violinplot(x='state', y='weighted_diff', hue='ahead', data=pivot_df, split=True, inner='quart', palette={'Trump': 'red', 'Biden': 'blue'})\n",
        "plt.title('Average Difference in Polling Percentages (Trump vs. Biden) Before and After Conviction')\n",
        "plt.xlabel('State')\n",
        "plt.ylabel('Difference in Polling Percentage (Trump - Biden)')\n",
        "plt.legend(title='Leading Candidate')\n",
        "plt.xticks(rotation=45)\n",
        "plt.tight_layout()\n",
        "plt.show()"
      ],
      "metadata": {
        "id": "64LhrFdf641E"
      },
      "execution_count": null,
      "outputs": []
    }
  ]
}